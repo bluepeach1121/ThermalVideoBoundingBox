{
 "cells": [
  {
   "cell_type": "code",
   "execution_count": null,
   "metadata": {},
   "outputs": [
    {
     "name": "stdout",
     "output_type": "stream",
     "text": [
      "Processing complete. Output video saved at: C:\\Users\\olawa\\OneDrive\\Desktop\\CV exercises\\output_video2.mp4  ☝️☝️☝️\n",
      "thanks, I love you\n"
     ]
    }
   ],
   "source": [
    "import cv2\n",
    "import numpy as np\n",
    "import os\n",
    "\n",
    "input_video_path = r\"C:\\Users\\olawa\\OneDrive\\Imágenes\\lepton videos\\Lepton_Vid.avi\"  \n",
    "\n",
    "output_directory = r'C:\\Users\\olawa\\OneDrive\\Desktop\\CV exercises'\n",
    "output_filename = 'output_video2.mp4'\n",
    "\n",
    "if not os.path.exists(output_directory):\n",
    "    output_directory = os.getcwd\n",
    "\n",
    "output_video_path = os.path.join(output_directory, output_filename)\n",
    "\n",
    "video_input = cv2.VideoCapture(input_video_path)\n",
    "\n",
    "if not video_input.isOpened():\n",
    "    print(\"Error: Could not open input video file.\")\n",
    "    exit()\n",
    "\n",
    "frame_width = int(video_input.get(cv2.CAP_PROP_FRAME_WIDTH))\n",
    "frame_height = int(video_input.get(cv2.CAP_PROP_FRAME_HEIGHT))\n",
    "fps = video_input.get(cv2.CAP_PROP_FPS)\n",
    "\n",
    "video_output = cv2.VideoWriter(\n",
    "    output_video_path,\n",
    "    cv2.VideoWriter_fourcc(*'mp4v'), \n",
    "    fps,\n",
    "    (frame_width, frame_height)\n",
    ")\n",
    "\n",
    "while True:\n",
    "    ret, frame = video_input.read()\n",
    "    if not ret:\n",
    "        break  \n",
    "    \n",
    "    gray_frame = cv2.cvtColor(frame, cv2.COLOR_BGR2GRAY)\n",
    "\n",
    "    # Gaussian blur to reduce noise\n",
    "    '''I might remove this gaussian blur later, I dont like\n",
    "    the effect. I'm probably goin to sharpen the image'''\n",
    "    blur_frame = cv2.GaussianBlur(gray_frame, (3, 3), 0)\n",
    "\n",
    "    minVal, maxVal, minLoc, maxLoc = cv2.minMaxLoc(blur_frame)\n",
    "\n",
    "    threshold_value = maxVal * 0.90  \n",
    "\n",
    "    _, thresh_frame = cv2.threshold(\n",
    "        blur_frame, threshold_value, 255, cv2.THRESH_BINARY\n",
    "    )\n",
    "\n",
    "    contours, _ = cv2.findContours(\n",
    "        thresh_frame, cv2.RETR_EXTERNAL, cv2.CHAIN_APPROX_SIMPLE\n",
    "    )\n",
    "\n",
    "    for cnt in contours:\n",
    "        x, y, w, h = cv2.boundingRect(cnt)\n",
    "        cv2.rectangle(frame, (x, y), (x + w, y + h), (0, 0, 0), 1)\n",
    "\n",
    "    video_output.write(frame)\n",
    "\n",
    "video_input.release()\n",
    "video_output.release()\n",
    "cv2.destroyAllWindows()\n",
    "\n",
    "print(f\"Processing complete. Output video saved at: {output_video_path}  ☝️☝️☝️\")\n",
    "print(f'thanks, I love you')"
   ]
  },
  {
   "cell_type": "code",
   "execution_count": null,
   "metadata": {},
   "outputs": [],
   "source": []
  }
 ],
 "metadata": {
  "kernelspec": {
   "display_name": "base",
   "language": "python",
   "name": "python3"
  },
  "language_info": {
   "codemirror_mode": {
    "name": "ipython",
    "version": 3
   },
   "file_extension": ".py",
   "mimetype": "text/x-python",
   "name": "python",
   "nbconvert_exporter": "python",
   "pygments_lexer": "ipython3",
   "version": "3.12.4"
  }
 },
 "nbformat": 4,
 "nbformat_minor": 2
}
